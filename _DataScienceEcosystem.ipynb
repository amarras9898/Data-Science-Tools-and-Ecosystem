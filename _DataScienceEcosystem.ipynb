{
  "metadata": {
    "kernelspec": {
      "name": "python",
      "display_name": "Python (Pyodide)",
      "language": "python"
    },
    "language_info": {
      "codemirror_mode": {
        "name": "python",
        "version": 3
      },
      "file_extension": ".py",
      "mimetype": "text/x-python",
      "name": "python",
      "nbconvert_exporter": "python",
      "pygments_lexer": "ipython3",
      "version": "3.8"
    }
  },
  "nbformat_minor": 5,
  "nbformat": 4,
  "cells": [
    {
      "id": "a25a4386-65e0-412f-9c50-9c203c103c5b",
      "cell_type": "markdown",
      "source": "# Data Science Tools and Ecosystem",
      "metadata": {}
    },
    {
      "id": "b6b2b744-ab29-418e-99b7-b8d856ae339c",
      "cell_type": "markdown",
      "source": "In this notebook, Data Science Tools and Ecosystem are summarized.",
      "metadata": {}
    },
    {
      "id": "dbf7dc9a-1010-4f03-a57f-7682ad5dd029",
      "cell_type": "markdown",
      "source": "Some of the popular languages that Data Scientists use are:\n* Python\n* R\n* C++",
      "metadata": {}
    },
    {
      "id": "24a5fe77-5313-44b9-89de-3db6adc32fbd",
      "cell_type": "markdown",
      "source": "| Data Science Tools |\n|--------------------|\n|Jupiter notebook|\n|Rstudio|\n|GitHub|",
      "metadata": {}
    },
    {
      "id": "544bc0ea-52a0-4359-bc0b-48c00bb4a986",
      "cell_type": "markdown",
      "source": "### Below are a few examples of evaluating arithmetic expressions in Python",
      "metadata": {}
    },
    {
      "id": "b48c9ad0-c7ee-477f-82f4-923466e1e00d",
      "cell_type": "code",
      "source": "# This a simple arithmetic expression to mutiply then add integers\n(3*4)+5",
      "metadata": {
        "trusted": true
      },
      "outputs": [
        {
          "execution_count": 2,
          "output_type": "execute_result",
          "data": {
            "text/plain": "17"
          },
          "metadata": {}
        }
      ],
      "execution_count": 2
    },
    {
      "id": "e5130444-139f-46e1-8afd-fa24ae7fdc3e",
      "cell_type": "code",
      "source": "# This will convert 200 minutes to hours by diving by 60\nprint(200//60, 'hours and', 200%60, 'minutes')\n",
      "metadata": {
        "trusted": true
      },
      "outputs": [
        {
          "name": "stdout",
          "output_type": "stream",
          "text": "3 hours and 20 minutes\n"
        }
      ],
      "execution_count": 8
    },
    {
      "id": "38c40e11-5e94-4a28-8d6b-790e7144bd23",
      "cell_type": "markdown",
      "source": "## Author\nAntonio",
      "metadata": {}
    },
    {
      "id": "134158e5-af36-434a-976a-cff84c2fbd57",
      "cell_type": "code",
      "source": "",
      "metadata": {
        "trusted": true
      },
      "outputs": [],
      "execution_count": null
    }
  ]
}